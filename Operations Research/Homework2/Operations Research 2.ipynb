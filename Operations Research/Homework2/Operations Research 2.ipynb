{
 "cells": [
  {
   "cell_type": "markdown",
   "metadata": {},
   "source": [
    "# 4.4-5"
   ]
  },
  {
   "cell_type": "code",
   "execution_count": null,
   "metadata": {},
   "outputs": [],
   "source": [
    "from scipy import optimize\n",
    "import numpy as np\n",
    "\n",
    "Cu = np.array([-2, -4, -3])\n",
    "Aub = np.array([[-1, 3],\n",
    "              [-3, 1]])\n",
    "Bub = np.array([30, 30])\n",
    "\n",
    "res = optimize.linprog(Cu,Aub,Bub,bounds=(0,None),integrality=0,method='simplex')\n",
    "\n",
    "if res.status == 0:\n",
    "    print(res.fun,res.x)\n",
    "res"
   ]
  },
  {
   "cell_type": "markdown",
   "metadata": {},
   "source": [
    "# 4.5-2"
   ]
  },
  {
   "cell_type": "markdown",
   "metadata": {},
   "source": [
    "# (a)"
   ]
  },
  {
   "cell_type": "code",
   "execution_count": null,
   "metadata": {},
   "outputs": [],
   "source": [
    "import numpy as np\n",
    "import matplotlib.pyplot as plt\n",
    "\n",
    "x1 = np.linspace(0, 50, 1000)\n",
    "y1 = 1/3 * x1 + 10\n",
    "y2 = 3 * x1 + 30\n",
    "yz = -5/2 * x1 + 1800\n",
    "\n",
    "plt.figure(figsize=(8, 6))\n",
    "plt.plot(x1, y1, label='-x1 + 3x2 = 30', color='green')\n",
    "plt.plot(x1, y2, label='-3x1 + x2 = 30', color='blue')\n",
    "plt.fill_between(x1, y1, 0,\n",
    "                color='gray', alpha=0.5, \n",
    "                label='Feasible Region')\n",
    "plt.xlabel('x')\n",
    "plt.ylabel('y')\n",
    "plt.title('Feasible region of the linear program')\n",
    "plt.xlim(0, 50)\n",
    "plt.ylim(0, 50)\n",
    "\n",
    "plt.grid(True)\n",
    "plt.legend()\n",
    "plt.show()"
   ]
  },
  {
   "cell_type": "markdown",
   "metadata": {},
   "source": [
    "# (b)"
   ]
  },
  {
   "cell_type": "code",
   "execution_count": null,
   "metadata": {},
   "outputs": [],
   "source": [
    "import numpy as np\n",
    "import matplotlib.pyplot as plt\n",
    "\n",
    "x1 = np.linspace(0, 50, 1000)\n",
    "y1 = 1/3 * x1 + 10\n",
    "y2 = 3 * x1 + 30\n",
    "yz1 = x1 + 10\n",
    "yz0 = x1 + 0\n",
    "yz2 = x1 - 10\n",
    "\n",
    "plt.figure(figsize=(8, 6))\n",
    "plt.plot(x1, y1, label='-x1 + 3x2 = 30', color='green')\n",
    "plt.plot(x1, y2, label='-3x1 + x2 = 30', color='blue')\n",
    "plt.plot(x1, yz1, label='Z = 10 = -x1 + x2', color='yellow')\n",
    "plt.plot(x1, yz0, label='Z = 0 = -x1 + x2', color='black')\n",
    "plt.plot(x1, yz2, label='Z = -10 = -x1 + x2', color='red')\n",
    "plt.fill_between(x1, y1, 0,\n",
    "                color='gray', alpha=0.5, \n",
    "                label='Feasible Region')\n",
    "plt.xlabel('x1')\n",
    "plt.ylabel('x2')\n",
    "plt.title('Feasible region of the linear program')\n",
    "plt.xlim(0, 50)\n",
    "plt.ylim(0, 50)\n",
    "\n",
    "plt.grid(True)\n",
    "plt.legend()\n",
    "plt.show()\n",
    "\n",
    "from scipy import optimize\n",
    "import numpy as np\n",
    "\n",
    "Cu = np.array([1, -1])\n",
    "Aub = np.array([[-1, 3],\n",
    "              [-3, 1]])\n",
    "Bub = np.array([30, 30])\n",
    "\n",
    "res = optimize.linprog(Cu,Aub,Bub,bounds=(0,None),integrality=0,method='simplex')\n",
    "\n",
    "if res.status == 0:\n",
    "    print(res.fun,res.x)\n",
    "res"
   ]
  },
  {
   "cell_type": "markdown",
   "metadata": {},
   "source": [
    "# (c)"
   ]
  },
  {
   "cell_type": "code",
   "execution_count": null,
   "metadata": {},
   "outputs": [],
   "source": [
    "import numpy as np\n",
    "import matplotlib.pyplot as plt\n",
    "\n",
    "x1 = np.linspace(0, 50, 1000)\n",
    "y1 = 1/3 * x1 + 10\n",
    "y2 = 3 * x1 + 30\n",
    "yz0 = x1 - 0\n",
    "yz1 = x1 - 10\n",
    "yz2 = x1 - 20\n",
    "\n",
    "plt.figure(figsize=(8, 6))\n",
    "plt.plot(x1, y1, label='-x1 + 3x2 = 30', color='green')\n",
    "plt.plot(x1, y2, label='-3x1 + x2 = 30', color='blue')\n",
    "plt.plot(x1, yz0, label='Z = 0 = x1 - x2', color='black')\n",
    "plt.plot(x1, yz1, label='Z = 10 = x1 - x2', color='yellow')\n",
    "plt.plot(x1, yz2, label='Z = 20 = x1 - x2', color='red')\n",
    "plt.fill_between(x1, y1, 0,\n",
    "                color='gray', alpha=0.5, \n",
    "                label='Feasible Region')\n",
    "plt.xlabel('x1')\n",
    "plt.ylabel('x2')\n",
    "plt.title('Feasible region with objective of the linear program')\n",
    "plt.xlim(0, 50)\n",
    "plt.ylim(0, 50)\n",
    "\n",
    "plt.grid(True)\n",
    "plt.legend()\n",
    "plt.show()\n",
    "\n",
    "\n",
    "from scipy import optimize\n",
    "import numpy as np\n",
    "\n",
    "Cu = np.array([-1, 1])\n",
    "Aub = np.array([[-1, 3],\n",
    "              [-3, 1]])\n",
    "Bub = np.array([30, 30])\n",
    "\n",
    "res = optimize.linprog(Cu,Aub,Bub,bounds=(0,None),integrality=0,method='simplex')\n",
    "\n",
    "if res.status == 0:\n",
    "    print(res.fun,res.x)\n",
    "res\n"
   ]
  },
  {
   "cell_type": "markdown",
   "metadata": {},
   "source": [
    "# 4.6-9"
   ]
  },
  {
   "cell_type": "code",
   "execution_count": null,
   "metadata": {},
   "outputs": [],
   "source": [
    "from scipy import optimize\n",
    "import numpy as np\n",
    "\n",
    "Cu = np.array([3, 2, 4])\n",
    "Aub = np.array([[-3, -3, -5]])\n",
    "Bub = np.array([-120])\n",
    "Aeq = np.array([[2, 1, 3]])\n",
    "Beq = np.array([60])\n",
    "\n",
    "res = optimize.linprog(Cu,Aub,Bub,Aeq,Beq,bounds=(0,None),integrality=0,method='simplex')\n",
    "\n",
    "if res.status == 0:\n",
    "    print(res.fun,res.x)\n",
    "res"
   ]
  }
 ],
 "metadata": {
  "kernelspec": {
   "display_name": "Python 3",
   "language": "python",
   "name": "python3"
  },
  "language_info": {
   "codemirror_mode": {
    "name": "ipython",
    "version": 3
   },
   "file_extension": ".py",
   "mimetype": "text/x-python",
   "name": "python",
   "nbconvert_exporter": "python",
   "pygments_lexer": "ipython3",
   "version": "3.10.12"
  },
  "orig_nbformat": 4
 },
 "nbformat": 4,
 "nbformat_minor": 2
}

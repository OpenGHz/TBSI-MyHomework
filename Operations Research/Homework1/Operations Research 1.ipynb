{
 "cells": [
  {
   "cell_type": "markdown",
   "metadata": {},
   "source": [
    "# 3.1-9"
   ]
  },
  {
   "cell_type": "code",
   "execution_count": null,
   "metadata": {},
   "outputs": [],
   "source": [
    "import numpy as np\n",
    "import matplotlib.pyplot as plt\n",
    "\n",
    "x1 = np.linspace(0, 1200, 100)\n",
    "y1 = -3/2 * x1 + 1200\n",
    "y2 = 0 * x1 + 800\n",
    "x2 = np.full_like(y1, 600)\n",
    "y_upper = np.piecewise(x1, [x1 < 800/3, x1 >= 800/3], [lambda x: 800 + 0*x, lambda x: 1200-3/2*x])\n",
    "yz = -5/2 * x1 + 1800\n",
    "\n",
    "plt.figure(figsize=(8, 6))\n",
    "plt.plot(x1, y1, label='3x + 2y = 2400', color='black')\n",
    "plt.plot(x2, y1, label='2x = 1200', color='red')\n",
    "plt.plot(x1, y2, label='y = 800', color='blue')\n",
    "plt.plot(x1, yz, label='Z = 3600 = 5x + 2y', color='green')\n",
    "plt.fill_between(x1, 0, y_upper,\n",
    "                where=x1 <= 600,\n",
    "                color='gray', alpha=0.5, \n",
    "                label='Feasible Region')\n",
    "plt.xlabel('x')\n",
    "plt.ylabel('y')\n",
    "plt.title('Graph of the linear program')\n",
    "plt.xlim(-100, 1200)\n",
    "plt.ylim(-100, 1300)\n",
    "\n",
    "plt.grid(True)\n",
    "plt.legend()\n",
    "plt.show()"
   ]
  },
  {
   "cell_type": "markdown",
   "metadata": {},
   "source": [
    "# 3.1-10"
   ]
  },
  {
   "cell_type": "code",
   "execution_count": null,
   "metadata": {},
   "outputs": [],
   "source": [
    "import numpy as np\n",
    "import matplotlib.pyplot as plt\n",
    "\n",
    "x1 = np.linspace(0, 6500, 1000)\n",
    "y1 = -3/2 * x1 + 6000\n",
    "y2 = 0 * x1 + 2000\n",
    "x2 = np.full_like(y1, 3200)\n",
    "y_upper = np.piecewise(x1, [x1 < 8000/3, x1 >= 8000/3], [lambda x: 2000 + 0*x, lambda x: -3/2 * x + 6000])\n",
    "yz = -8/3 * x1 + 3212/0.33\n",
    "\n",
    "plt.figure(figsize=(8, 6))\n",
    "plt.plot(x1, y1, label='3x + 2y = 12000', color='black')\n",
    "plt.plot(x2, y1, label='0.25x = 800', color='red')\n",
    "plt.plot(x1, y2, label='0.1y = 200', color='blue')\n",
    "plt.plot(x1, yz, label='Z = 3212 = 0.88x + 0.33y', color='green')\n",
    "plt.fill_between(x1, 0, y_upper,\n",
    "                where=x1 <= 3200,\n",
    "                color='gray', alpha=0.5,\n",
    "                label='Feasible Region')\n",
    "plt.xlabel('x')\n",
    "plt.ylabel('y')\n",
    "plt.title('Graph of the linear program')\n",
    "plt.xlim(-100, 6500)\n",
    "plt.ylim(-100, 10000)\n",
    "\n",
    "plt.grid(True)\n",
    "plt.legend()\n",
    "plt.show()"
   ]
  },
  {
   "cell_type": "markdown",
   "metadata": {},
   "source": [
    "# 3.4-9"
   ]
  },
  {
   "cell_type": "code",
   "execution_count": null,
   "metadata": {},
   "outputs": [],
   "source": [
    "from scipy import optimize\n",
    "import numpy as np\n",
    "\n",
    "Cu = np.array([65,100,135,160,190,65,100,135,160,65,100,135,65,100,65])\n",
    "Aub = np.array([[-1,-1,-1,-1,-1,0,0,0,0,0,0,0,0,0,0],\n",
    "              [0,-1,-1,-1,-1,-1,-1,-1,-1,0,0,0,0,0,0],\n",
    "              [0,0,-1,-1,-1,0,-1,-1,-1,-1,-1,-1,0,0,0],\n",
    "              [0,0,0,-1,-1,0,0,-1,-1,0,-1,-1,-1,-1,0],\n",
    "              [0,0,0,0,-1,0,0,0,-1,0,0,-1,0,-1,-1]])\n",
    "\n",
    "Bub = np.array([-30000,-20000,-40000,-10000,-50000])\n",
    "\n",
    "res = optimize.linprog(Cu,Aub,Bub,bounds=(0,None),integrality=1)\n",
    "if res.status == 0:\n",
    "    print(res.fun,res.x)\n"
   ]
  },
  {
   "cell_type": "markdown",
   "metadata": {},
   "source": [
    "# 3.4-11"
   ]
  },
  {
   "cell_type": "code",
   "execution_count": null,
   "metadata": {},
   "outputs": [],
   "source": [
    "from scipy import optimize\n",
    "import numpy as np\n",
    "\n",
    "Cu = np.array([600,800,700,400,900,600])\n",
    "Aub = np.array([[1,1,1,0,0,0],\n",
    "              [0,0,0,1,1,1]])\n",
    "\n",
    "Bub = np.array([400,500])\n",
    "\n",
    "Aeq = np.array([[1,0,0,1,0,0],\n",
    "              [0,1,0,0,1,0],\n",
    "              [0,0,1,0,0,1]])\n",
    "Beq = np.array([300,200,400])\n",
    "\n",
    "res = optimize.linprog(Cu,Aub,Bub,Aeq,Beq,bounds=(0,None),integrality=1)\n",
    "if res.status == 0:\n",
    "    print(res.fun,res.x)"
   ]
  }
 ],
 "metadata": {
  "kernelspec": {
   "display_name": "Python 3",
   "language": "python",
   "name": "python3"
  },
  "language_info": {
   "codemirror_mode": {
    "name": "ipython",
    "version": 3
   },
   "file_extension": ".py",
   "mimetype": "text/x-python",
   "name": "python",
   "nbconvert_exporter": "python",
   "pygments_lexer": "ipython3",
   "version": "3.10.12"
  },
  "orig_nbformat": 4
 },
 "nbformat": 4,
 "nbformat_minor": 2
}
